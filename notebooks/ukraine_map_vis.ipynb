{
 "cells": [
  {
   "cell_type": "code",
   "execution_count": null,
   "metadata": {},
   "outputs": [],
   "source": [
    "!pip install -r requirements.txt"
   ]
  },
  {
   "cell_type": "code",
   "execution_count": 1,
   "metadata": {},
   "outputs": [],
   "source": [
    "# Import necessary libraries\n",
    "import pandas as pd"
   ]
  },
  {
   "cell_type": "code",
   "execution_count": 2,
   "metadata": {},
   "outputs": [],
   "source": [
    "data_folder = \"./data/\""
   ]
  },
  {
   "attachments": {},
   "cell_type": "markdown",
   "metadata": {},
   "source": [
    "## Vorverarbeitung"
   ]
  },
  {
   "cell_type": "code",
   "execution_count": 19,
   "metadata": {},
   "outputs": [],
   "source": [
    "\n",
    "data = pd.read_csv(data_folder + 'ukr-civharm-2023-05-25.csv')  \n",
    "\n",
    "# Transformiere 'date' Spalte in datetime-Format\n",
    "data['date'] = pd.to_datetime(data['date'])\n",
    "\n",
    "# Speichern Sie den aufbereiteten Datensatz als neue CSV-Datei\n",
    "data.to_csv('processed_data.csv', index=False)\n"
   ]
  },
  {
   "cell_type": "code",
   "execution_count": 20,
   "metadata": {},
   "outputs": [],
   "source": [
    "data_folder = \"./data/\""
   ]
  },
  {
   "cell_type": "code",
   "execution_count": 34,
   "metadata": {},
   "outputs": [],
   "source": [
    "import pandas as pd\n",
    "\n",
    "data = pd.read_csv(data_folder + 'ukr-civharm-2023-05-25.csv')\n",
    "\n",
    "# Transformiere 'date' Spalte in datetime-Format\n",
    "# append 12:00:00 to date on every line\n",
    "data['date'] = pd.to_datetime(data['date'] + ' 12:00:00')\n",
    "\n",
    "# Speichern Sie den aufbereiteten Datensatz als neue CSV-Datei\n",
    "data.to_csv('processed_data.csv', index=False)\n"
   ]
  },
  {
   "cell_type": "code",
   "execution_count": 19,
   "metadata": {},
   "outputs": [
    {
     "name": "stdout",
     "output_type": "stream",
     "text": [
      "1.0\n",
      "Cherkasy Oblast\n",
      "2022-02-24 12:00:00\n",
      "1.0\n",
      "Kyiv\n",
      "2022-02-24 12:00:00\n",
      "1.0\n",
      "Donetsk Oblast\n",
      "2022-02-24 12:00:00\n",
      "1.0\n",
      "Kherson Oblast\n",
      "2022-02-24 12:00:00\n",
      "2.0\n",
      "Donetsk Oblast\n",
      "2022-02-24 12:00:00\n",
      "3.0\n",
      "Donetsk Oblast\n",
      "2022-02-24 12:00:00\n",
      "4.0\n",
      "Donetsk Oblast\n",
      "2022-02-24 12:00:00\n",
      "        id                date   latitude  longitude          location  \\\n",
      "0  CIV0002 2022-02-24 12:00:00  48.748564  30.218515              Uman   \n",
      "1  CIV1122 2022-06-26 12:00:00  49.474788  32.033788          Cherkasy   \n",
      "2  CIV1600 2022-10-31 12:00:00  49.763071  31.470421  Cherkassy region   \n",
      "3  CIV2023 2023-04-28 12:00:00  48.766328  30.217014               NaN   \n",
      "4  CIV0042 2022-02-26 12:00:00  51.524277  31.325445         Chernihiv   \n",
      "\n",
      "                                         description  \\\n",
      "0  Civilians hit by what appears to have been art...   \n",
      "1   Explosion in the immediate vicinity of a bridge.   \n",
      "2      A power plant reported as hit near Cherkassy.   \n",
      "3  [Graphic: covered dead bodies]20 people report...   \n",
      "4  Apartment building on fire; three people repor...   \n",
      "\n",
      "                                             sources  \\\n",
      "0  https://twitter.com/ragipsoylu/status/14967372...   \n",
      "1  https://twitter.com/DefMon3/status/15410298194...   \n",
      "2  https://t.me/vorposte/29806,https://t.me/vorpo...   \n",
      "3  https://t.me/uniannet/96614,https://t.me/unian...   \n",
      "4  https://t.me/nexta_live/17711,https://t.me/nex...   \n",
      "\n",
      "                                        associations            region  \\\n",
      "0  Type of area affected=Commercial,Weapon System...   Cherkasy Oblast   \n",
      "1  Type of area affected=Roads/Highways/Transport...   Cherkasy Oblast   \n",
      "2  Type of area affected=Industrial,Weapon System...   Cherkasy Oblast   \n",
      "3  Type of area affected=Residential,Weapon Syste...   Cherkasy Oblast   \n",
      "4  Type of area affected=Residential,Weapon Syste...  Chernihiv Oblast   \n",
      "\n",
      "   cumulative_events_per_region  centroid_lon  centroid_lat  \n",
      "0                           1.0     31.352592     49.260203  \n",
      "1                           2.0     31.352592     49.260203  \n",
      "2                           3.0     31.352592     49.260203  \n",
      "3                           4.0     31.352592     49.260203  \n",
      "4                           1.0     32.004591     51.354897  \n"
     ]
    },
    {
     "name": "stderr",
     "output_type": "stream",
     "text": [
      "/opt/homebrew/anaconda3/envs/projekt_vis/lib/python3.9/site-packages/IPython/core/interactiveshell.py:3448: FutureWarning:\n",
      "\n",
      "The `op` parameter is deprecated and will be removed in a future release. Please use the `predicate` parameter instead.\n",
      "\n",
      "/var/folders/27/wbxl2gm97fx87d4kg4dnfznw0000gn/T/ipykernel_41278/2519674894.py:39: UserWarning:\n",
      "\n",
      "Geometry is in a geographic CRS. Results from 'centroid' are likely incorrect. Use 'GeoSeries.to_crs()' to re-project geometries to a projected CRS before this operation.\n",
      "\n",
      "\n"
     ]
    }
   ],
   "source": [
    "import pandas as pd\n",
    "import geopandas as gpd\n",
    "from shapely.geometry import Point\n",
    "\n",
    "#Laden Sie Ihr Daten-DataFrame\n",
    "df = pd.read_csv(data_folder + 'ukr-civharm-2023-05-25.csv')  \n",
    "\n",
    "# Laden Sie die GeoJSON-Datei\n",
    "geo_data = gpd.read_file('data/geoBoundaries-UKR-ADM1_simplified.geojson')\n",
    "\n",
    "# Erstellen Sie Geopandas-DataFrame aus Ihrem ursprünglichen DataFrame\n",
    "gdf = gpd.GeoDataFrame(df, geometry=gpd.points_from_xy(df.longitude, df.latitude))\n",
    "\n",
    "# Stellen Sie sicher, dass beide Geodataframes denselben Koordinatensystem haben\n",
    "gdf = gdf.set_crs(geo_data.crs)\n",
    "\n",
    "# Ordnen Sie jeden Punkt dem entsprechenden Polygon in der GeoJSON-Datei zu\n",
    "df['region'] = gpd.sjoin(gdf, geo_data, how='left', op='within')['shapeName']\n",
    "\n",
    "# Transformiere 'date' Spalte in datetime-Format\n",
    "# append 12:00:00 to date on every line\n",
    "df['date'] = pd.to_datetime(df['date'] + ' 12:00:00')\n",
    "\n",
    "# Stellen Sie sicher, dass 'date' ein datetime-Objekt ist\n",
    "df['date'] = pd.to_datetime(df['date'])\n",
    "\n",
    "# Sortieren Sie den DataFrame nach 'date' und 'region'\n",
    "df = df.sort_values(['region', 'date', 'id'])\n",
    "\n",
    "# Fügen Sie die kumulative Anzahl der Ereignisse pro Region hinzu\n",
    "df['cumulative_events_per_region'] = df.groupby('region').cumcount() + 1\n",
    "\n",
    "for i in range(1, 8):\n",
    "    print(df['cumulative_events_per_region'][i])\n",
    "    print(df['region'][i])\n",
    "    print(df['date'][i])\n",
    "\n",
    "# Berechnen Sie die Zentroide für jede Region in der GeoJSON-Datei\n",
    "geo_data['centroid'] = geo_data.geometry.centroid\n",
    "\n",
    "# Extrahieren Sie die Längen- und Breitengrade der Zentroide in separate Spalten\n",
    "geo_data['centroid_lon'] = geo_data['centroid'].apply(lambda point: point.x)\n",
    "geo_data['centroid_lat'] = geo_data['centroid'].apply(lambda point: point.y)\n",
    "\n",
    "# Entfernen Sie die 'centroid'-Spalte, da wir sie nicht mehr brauchen\n",
    "geo_data = geo_data.drop('centroid', axis=1)\n",
    "\n",
    "# Führen Sie einen Merge mit dem ursprünglichen DataFrame durch, um die Zentroiden zuzuordnen\n",
    "df = pd.merge(df, geo_data[['shapeName', 'centroid_lon', 'centroid_lat']], \n",
    "              left_on='region', right_on='shapeName', how='left')\n",
    "\n",
    "# Entfernen Sie die 'shapeName'-Spalte, da wir sie nicht mehr brauchen\n",
    "df = df.drop('shapeName', axis=1)\n",
    "\n",
    "\n",
    "print(df.head())\n",
    "df.to_csv('processed_data_time_region.csv', index=False)"
   ]
  },
  {
   "cell_type": "code",
   "execution_count": 11,
   "metadata": {},
   "outputs": [
    {
     "name": "stdout",
     "output_type": "stream",
     "text": [
      "Cherkasy Oblast\n",
      "2.0\n",
      "Cherkasy Oblast\n",
      "3.0\n",
      "Cherkasy Oblast\n",
      "4.0\n",
      "Chernihiv Oblast\n",
      "1.0\n",
      "Chernihiv Oblast\n",
      "2.0\n",
      "Chernihiv Oblast\n",
      "3.0\n",
      "Chernihiv Oblast\n",
      "4.0\n",
      "Chernihiv Oblast\n",
      "5.0\n",
      "Chernihiv Oblast\n",
      "6.0\n"
     ]
    }
   ],
   "source": [
    "for i in range(1, 10):\n",
    "    print(df[\"region\"][i])\n",
    "    print(df[\"cumulative_events_per_region\"][i])"
   ]
  },
  {
   "cell_type": "code",
   "execution_count": 4,
   "metadata": {},
   "outputs": [
    {
     "data": {
      "application/vnd.plotly.v1+json": {
       "config": {
        "plotlyServerURL": "https://plot.ly"
       },
       "data": [
        {
         "alignmentgroup": "True",
         "hovertemplate": "Region=%{x}<br>Anzahl der Ereignisse=%{y}<extra></extra>",
         "legendgroup": "",
         "marker": {
          "color": "#636efa",
          "pattern": {
           "shape": ""
          }
         },
         "name": "",
         "offsetgroup": "",
         "orientation": "v",
         "showlegend": false,
         "textposition": "auto",
         "type": "bar",
         "x": [
          "Kharkiv Oblast",
          "Donetsk Oblast",
          "Kherson Oblast",
          "Mykolaiv Oblast",
          "Kyiv Oblast",
          "Luhansk Oblast",
          "Zaporizhia Oblast",
          "Kyiv",
          "Dnipropetrovsk Oblast",
          "Sumy Oblast",
          "Odessa Oblast",
          "Chernihiv Oblast",
          "Lviv Oblast",
          "Rivne Oblast",
          "Vinnytsia Oblast",
          "Cherkasy Oblast",
          "Zhytomyr Oblast",
          "Ternopil Oblast",
          "Khmelnytskyi Oblast",
          "Poltava Oblast",
          "Kirovohrad Oblast",
          "Volyn Oblast"
         ],
         "xaxis": "x",
         "y": [
          313,
          285,
          108,
          92,
          75,
          59,
          55,
          45,
          27,
          20,
          18,
          17,
          7,
          4,
          4,
          4,
          4,
          2,
          2,
          1,
          1,
          1
         ],
         "yaxis": "y"
        }
       ],
       "layout": {
        "barmode": "relative",
        "legend": {
         "tracegroupgap": 0
        },
        "template": {
         "data": {
          "bar": [
           {
            "error_x": {
             "color": "#2a3f5f"
            },
            "error_y": {
             "color": "#2a3f5f"
            },
            "marker": {
             "line": {
              "color": "#E5ECF6",
              "width": 0.5
             },
             "pattern": {
              "fillmode": "overlay",
              "size": 10,
              "solidity": 0.2
             }
            },
            "type": "bar"
           }
          ],
          "barpolar": [
           {
            "marker": {
             "line": {
              "color": "#E5ECF6",
              "width": 0.5
             },
             "pattern": {
              "fillmode": "overlay",
              "size": 10,
              "solidity": 0.2
             }
            },
            "type": "barpolar"
           }
          ],
          "carpet": [
           {
            "aaxis": {
             "endlinecolor": "#2a3f5f",
             "gridcolor": "white",
             "linecolor": "white",
             "minorgridcolor": "white",
             "startlinecolor": "#2a3f5f"
            },
            "baxis": {
             "endlinecolor": "#2a3f5f",
             "gridcolor": "white",
             "linecolor": "white",
             "minorgridcolor": "white",
             "startlinecolor": "#2a3f5f"
            },
            "type": "carpet"
           }
          ],
          "choropleth": [
           {
            "colorbar": {
             "outlinewidth": 0,
             "ticks": ""
            },
            "type": "choropleth"
           }
          ],
          "contour": [
           {
            "colorbar": {
             "outlinewidth": 0,
             "ticks": ""
            },
            "colorscale": [
             [
              0,
              "#0d0887"
             ],
             [
              0.1111111111111111,
              "#46039f"
             ],
             [
              0.2222222222222222,
              "#7201a8"
             ],
             [
              0.3333333333333333,
              "#9c179e"
             ],
             [
              0.4444444444444444,
              "#bd3786"
             ],
             [
              0.5555555555555556,
              "#d8576b"
             ],
             [
              0.6666666666666666,
              "#ed7953"
             ],
             [
              0.7777777777777778,
              "#fb9f3a"
             ],
             [
              0.8888888888888888,
              "#fdca26"
             ],
             [
              1,
              "#f0f921"
             ]
            ],
            "type": "contour"
           }
          ],
          "contourcarpet": [
           {
            "colorbar": {
             "outlinewidth": 0,
             "ticks": ""
            },
            "type": "contourcarpet"
           }
          ],
          "heatmap": [
           {
            "colorbar": {
             "outlinewidth": 0,
             "ticks": ""
            },
            "colorscale": [
             [
              0,
              "#0d0887"
             ],
             [
              0.1111111111111111,
              "#46039f"
             ],
             [
              0.2222222222222222,
              "#7201a8"
             ],
             [
              0.3333333333333333,
              "#9c179e"
             ],
             [
              0.4444444444444444,
              "#bd3786"
             ],
             [
              0.5555555555555556,
              "#d8576b"
             ],
             [
              0.6666666666666666,
              "#ed7953"
             ],
             [
              0.7777777777777778,
              "#fb9f3a"
             ],
             [
              0.8888888888888888,
              "#fdca26"
             ],
             [
              1,
              "#f0f921"
             ]
            ],
            "type": "heatmap"
           }
          ],
          "heatmapgl": [
           {
            "colorbar": {
             "outlinewidth": 0,
             "ticks": ""
            },
            "colorscale": [
             [
              0,
              "#0d0887"
             ],
             [
              0.1111111111111111,
              "#46039f"
             ],
             [
              0.2222222222222222,
              "#7201a8"
             ],
             [
              0.3333333333333333,
              "#9c179e"
             ],
             [
              0.4444444444444444,
              "#bd3786"
             ],
             [
              0.5555555555555556,
              "#d8576b"
             ],
             [
              0.6666666666666666,
              "#ed7953"
             ],
             [
              0.7777777777777778,
              "#fb9f3a"
             ],
             [
              0.8888888888888888,
              "#fdca26"
             ],
             [
              1,
              "#f0f921"
             ]
            ],
            "type": "heatmapgl"
           }
          ],
          "histogram": [
           {
            "marker": {
             "pattern": {
              "fillmode": "overlay",
              "size": 10,
              "solidity": 0.2
             }
            },
            "type": "histogram"
           }
          ],
          "histogram2d": [
           {
            "colorbar": {
             "outlinewidth": 0,
             "ticks": ""
            },
            "colorscale": [
             [
              0,
              "#0d0887"
             ],
             [
              0.1111111111111111,
              "#46039f"
             ],
             [
              0.2222222222222222,
              "#7201a8"
             ],
             [
              0.3333333333333333,
              "#9c179e"
             ],
             [
              0.4444444444444444,
              "#bd3786"
             ],
             [
              0.5555555555555556,
              "#d8576b"
             ],
             [
              0.6666666666666666,
              "#ed7953"
             ],
             [
              0.7777777777777778,
              "#fb9f3a"
             ],
             [
              0.8888888888888888,
              "#fdca26"
             ],
             [
              1,
              "#f0f921"
             ]
            ],
            "type": "histogram2d"
           }
          ],
          "histogram2dcontour": [
           {
            "colorbar": {
             "outlinewidth": 0,
             "ticks": ""
            },
            "colorscale": [
             [
              0,
              "#0d0887"
             ],
             [
              0.1111111111111111,
              "#46039f"
             ],
             [
              0.2222222222222222,
              "#7201a8"
             ],
             [
              0.3333333333333333,
              "#9c179e"
             ],
             [
              0.4444444444444444,
              "#bd3786"
             ],
             [
              0.5555555555555556,
              "#d8576b"
             ],
             [
              0.6666666666666666,
              "#ed7953"
             ],
             [
              0.7777777777777778,
              "#fb9f3a"
             ],
             [
              0.8888888888888888,
              "#fdca26"
             ],
             [
              1,
              "#f0f921"
             ]
            ],
            "type": "histogram2dcontour"
           }
          ],
          "mesh3d": [
           {
            "colorbar": {
             "outlinewidth": 0,
             "ticks": ""
            },
            "type": "mesh3d"
           }
          ],
          "parcoords": [
           {
            "line": {
             "colorbar": {
              "outlinewidth": 0,
              "ticks": ""
             }
            },
            "type": "parcoords"
           }
          ],
          "pie": [
           {
            "automargin": true,
            "type": "pie"
           }
          ],
          "scatter": [
           {
            "fillpattern": {
             "fillmode": "overlay",
             "size": 10,
             "solidity": 0.2
            },
            "type": "scatter"
           }
          ],
          "scatter3d": [
           {
            "line": {
             "colorbar": {
              "outlinewidth": 0,
              "ticks": ""
             }
            },
            "marker": {
             "colorbar": {
              "outlinewidth": 0,
              "ticks": ""
             }
            },
            "type": "scatter3d"
           }
          ],
          "scattercarpet": [
           {
            "marker": {
             "colorbar": {
              "outlinewidth": 0,
              "ticks": ""
             }
            },
            "type": "scattercarpet"
           }
          ],
          "scattergeo": [
           {
            "marker": {
             "colorbar": {
              "outlinewidth": 0,
              "ticks": ""
             }
            },
            "type": "scattergeo"
           }
          ],
          "scattergl": [
           {
            "marker": {
             "colorbar": {
              "outlinewidth": 0,
              "ticks": ""
             }
            },
            "type": "scattergl"
           }
          ],
          "scattermapbox": [
           {
            "marker": {
             "colorbar": {
              "outlinewidth": 0,
              "ticks": ""
             }
            },
            "type": "scattermapbox"
           }
          ],
          "scatterpolar": [
           {
            "marker": {
             "colorbar": {
              "outlinewidth": 0,
              "ticks": ""
             }
            },
            "type": "scatterpolar"
           }
          ],
          "scatterpolargl": [
           {
            "marker": {
             "colorbar": {
              "outlinewidth": 0,
              "ticks": ""
             }
            },
            "type": "scatterpolargl"
           }
          ],
          "scatterternary": [
           {
            "marker": {
             "colorbar": {
              "outlinewidth": 0,
              "ticks": ""
             }
            },
            "type": "scatterternary"
           }
          ],
          "surface": [
           {
            "colorbar": {
             "outlinewidth": 0,
             "ticks": ""
            },
            "colorscale": [
             [
              0,
              "#0d0887"
             ],
             [
              0.1111111111111111,
              "#46039f"
             ],
             [
              0.2222222222222222,
              "#7201a8"
             ],
             [
              0.3333333333333333,
              "#9c179e"
             ],
             [
              0.4444444444444444,
              "#bd3786"
             ],
             [
              0.5555555555555556,
              "#d8576b"
             ],
             [
              0.6666666666666666,
              "#ed7953"
             ],
             [
              0.7777777777777778,
              "#fb9f3a"
             ],
             [
              0.8888888888888888,
              "#fdca26"
             ],
             [
              1,
              "#f0f921"
             ]
            ],
            "type": "surface"
           }
          ],
          "table": [
           {
            "cells": {
             "fill": {
              "color": "#EBF0F8"
             },
             "line": {
              "color": "white"
             }
            },
            "header": {
             "fill": {
              "color": "#C8D4E3"
             },
             "line": {
              "color": "white"
             }
            },
            "type": "table"
           }
          ]
         },
         "layout": {
          "annotationdefaults": {
           "arrowcolor": "#2a3f5f",
           "arrowhead": 0,
           "arrowwidth": 1
          },
          "autotypenumbers": "strict",
          "coloraxis": {
           "colorbar": {
            "outlinewidth": 0,
            "ticks": ""
           }
          },
          "colorscale": {
           "diverging": [
            [
             0,
             "#8e0152"
            ],
            [
             0.1,
             "#c51b7d"
            ],
            [
             0.2,
             "#de77ae"
            ],
            [
             0.3,
             "#f1b6da"
            ],
            [
             0.4,
             "#fde0ef"
            ],
            [
             0.5,
             "#f7f7f7"
            ],
            [
             0.6,
             "#e6f5d0"
            ],
            [
             0.7,
             "#b8e186"
            ],
            [
             0.8,
             "#7fbc41"
            ],
            [
             0.9,
             "#4d9221"
            ],
            [
             1,
             "#276419"
            ]
           ],
           "sequential": [
            [
             0,
             "#0d0887"
            ],
            [
             0.1111111111111111,
             "#46039f"
            ],
            [
             0.2222222222222222,
             "#7201a8"
            ],
            [
             0.3333333333333333,
             "#9c179e"
            ],
            [
             0.4444444444444444,
             "#bd3786"
            ],
            [
             0.5555555555555556,
             "#d8576b"
            ],
            [
             0.6666666666666666,
             "#ed7953"
            ],
            [
             0.7777777777777778,
             "#fb9f3a"
            ],
            [
             0.8888888888888888,
             "#fdca26"
            ],
            [
             1,
             "#f0f921"
            ]
           ],
           "sequentialminus": [
            [
             0,
             "#0d0887"
            ],
            [
             0.1111111111111111,
             "#46039f"
            ],
            [
             0.2222222222222222,
             "#7201a8"
            ],
            [
             0.3333333333333333,
             "#9c179e"
            ],
            [
             0.4444444444444444,
             "#bd3786"
            ],
            [
             0.5555555555555556,
             "#d8576b"
            ],
            [
             0.6666666666666666,
             "#ed7953"
            ],
            [
             0.7777777777777778,
             "#fb9f3a"
            ],
            [
             0.8888888888888888,
             "#fdca26"
            ],
            [
             1,
             "#f0f921"
            ]
           ]
          },
          "colorway": [
           "#636efa",
           "#EF553B",
           "#00cc96",
           "#ab63fa",
           "#FFA15A",
           "#19d3f3",
           "#FF6692",
           "#B6E880",
           "#FF97FF",
           "#FECB52"
          ],
          "font": {
           "color": "#2a3f5f"
          },
          "geo": {
           "bgcolor": "white",
           "lakecolor": "white",
           "landcolor": "#E5ECF6",
           "showlakes": true,
           "showland": true,
           "subunitcolor": "white"
          },
          "hoverlabel": {
           "align": "left"
          },
          "hovermode": "closest",
          "mapbox": {
           "style": "light"
          },
          "paper_bgcolor": "white",
          "plot_bgcolor": "#E5ECF6",
          "polar": {
           "angularaxis": {
            "gridcolor": "white",
            "linecolor": "white",
            "ticks": ""
           },
           "bgcolor": "#E5ECF6",
           "radialaxis": {
            "gridcolor": "white",
            "linecolor": "white",
            "ticks": ""
           }
          },
          "scene": {
           "xaxis": {
            "backgroundcolor": "#E5ECF6",
            "gridcolor": "white",
            "gridwidth": 2,
            "linecolor": "white",
            "showbackground": true,
            "ticks": "",
            "zerolinecolor": "white"
           },
           "yaxis": {
            "backgroundcolor": "#E5ECF6",
            "gridcolor": "white",
            "gridwidth": 2,
            "linecolor": "white",
            "showbackground": true,
            "ticks": "",
            "zerolinecolor": "white"
           },
           "zaxis": {
            "backgroundcolor": "#E5ECF6",
            "gridcolor": "white",
            "gridwidth": 2,
            "linecolor": "white",
            "showbackground": true,
            "ticks": "",
            "zerolinecolor": "white"
           }
          },
          "shapedefaults": {
           "line": {
            "color": "#2a3f5f"
           }
          },
          "ternary": {
           "aaxis": {
            "gridcolor": "white",
            "linecolor": "white",
            "ticks": ""
           },
           "baxis": {
            "gridcolor": "white",
            "linecolor": "white",
            "ticks": ""
           },
           "bgcolor": "#E5ECF6",
           "caxis": {
            "gridcolor": "white",
            "linecolor": "white",
            "ticks": ""
           }
          },
          "title": {
           "x": 0.05
          },
          "xaxis": {
           "automargin": true,
           "gridcolor": "white",
           "linecolor": "white",
           "ticks": "",
           "title": {
            "standoff": 15
           },
           "zerolinecolor": "white",
           "zerolinewidth": 2
          },
          "yaxis": {
           "automargin": true,
           "gridcolor": "white",
           "linecolor": "white",
           "ticks": "",
           "title": {
            "standoff": 15
           },
           "zerolinecolor": "white",
           "zerolinewidth": 2
          }
         }
        },
        "title": {
         "text": "Anzahl der Ereignisse pro Region"
        },
        "xaxis": {
         "anchor": "y",
         "domain": [
          0,
          1
         ],
         "title": {
          "text": "Region"
         }
        },
        "yaxis": {
         "anchor": "x",
         "domain": [
          0,
          1
         ],
         "title": {
          "text": "Anzahl der Ereignisse"
         }
        }
       }
      }
     },
     "metadata": {},
     "output_type": "display_data"
    }
   ],
   "source": [
    "import plotly.express as px\n",
    "import plotly.io as pio\n",
    "\n",
    "#Laden Sie Ihr Daten-DataFrame\n",
    "df = pd.read_csv(\"processed_data_time_region.csv\")  \n",
    "\n",
    "# Zählen Sie die Anzahl der Ereignisse in jeder Region\n",
    "region_counts = df['region'].value_counts().reset_index()\n",
    "region_counts.columns = ['region', 'count']\n",
    "\n",
    "# Erstellen Sie das Balkendiagramm\n",
    "fig = px.bar(region_counts, x='region', y='count', title='Anzahl der Ereignisse pro Region',\n",
    "             labels={'count':'Anzahl der Ereignisse', 'region':'Region'})\n",
    "\n",
    "# Diagramm anzeigen\n",
    "fig.show()\n",
    "pio.write_html(fig, file=\"region_count.html\", auto_open=True)"
   ]
  }
 ],
 "metadata": {
  "kernelspec": {
   "display_name": "projekt_vis",
   "language": "python",
   "name": "python3"
  },
  "language_info": {
   "codemirror_mode": {
    "name": "ipython",
    "version": 3
   },
   "file_extension": ".py",
   "mimetype": "text/x-python",
   "name": "python",
   "nbconvert_exporter": "python",
   "pygments_lexer": "ipython3",
   "version": "3.9.16"
  },
  "orig_nbformat": 4
 },
 "nbformat": 4,
 "nbformat_minor": 2
}
